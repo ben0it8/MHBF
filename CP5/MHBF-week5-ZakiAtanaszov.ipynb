{
 "cells": [
  {
   "cell_type": "markdown",
   "metadata": {
    "ExecuteTime": {
     "end_time": "2017-05-30T20:53:23.728014Z",
     "start_time": "2017-05-30T20:53:23.724304"
    },
    "run_control": {
     "frozen": false,
     "read_only": false
    }
   },
   "source": [
    "# MHBF PT - Week 5.  - Zaki, Nikolai and Atanaszov, Oliver"
   ]
  },
  {
   "cell_type": "code",
   "execution_count": 6,
   "metadata": {
    "ExecuteTime": {
     "end_time": "2017-05-30T20:58:40.778836Z",
     "start_time": "2017-05-30T20:58:40.756355"
    },
    "collapsed": false
   },
   "outputs": [
    {
     "name": "stdout",
     "output_type": "stream",
     "text": [
      "Populating the interactive namespace from numpy and matplotlib\n"
     ]
    }
   ],
   "source": [
    "%config InlineBackend.figure_format = 'retina'\n",
    "%pylab inline\n",
    "from __future__ import print_function, division\n",
    "import numpy as np\n",
    "import seaborn as sns\n",
    "import matplotlib.pyplot as plt\n"
   ]
  },
  {
   "cell_type": "markdown",
   "metadata": {},
   "source": [
    "## Exercise 1: Extended drift-diffusion model"
   ]
  },
  {
   "cell_type": "code",
   "execution_count": 8,
   "metadata": {
    "ExecuteTime": {
     "end_time": "2017-05-30T20:59:03.254033Z",
     "start_time": "2017-05-30T20:59:03.245783"
    },
    "collapsed": true
   },
   "outputs": [],
   "source": [
    "def euler_maruyama(ffun, gfun, x_0, t_max, dt, *args,  **kwargs): \n",
    "    \"\"\"\n",
    "    Multidimensional Euler-Maruyama DE solver.    \n",
    "    \"\"\"\n",
    "    print(args)\n",
    "    x_0 = np.asarray(x_0)\n",
    "    time = np.arange(0, t_max, dt)\n",
    "    dx = np.zeros((x_0.size, time.size)).T\n",
    "    dx[0,:] = x_0\n",
    "    for t in range(time.size-1):\n",
    "        W = np.random.normal()\n",
    "        dx[t+1,:] = dx[t, :] + ffun(dx[t, :], t*dt, *args, **kwargs) * dt + gfun(dx[t, :], t*dt, *args,**kwargs) * np.sqrt(dt) * W\n",
    "    return dx"
   ]
  },
  {
   "cell_type": "markdown",
   "metadata": {},
   "source": [
    "### 1."
   ]
  },
  {
   "cell_type": "code",
   "execution_count": 9,
   "metadata": {
    "ExecuteTime": {
     "end_time": "2017-05-30T21:00:11.521201Z",
     "start_time": "2017-05-30T21:00:11.516863"
    },
    "collapsed": true
   },
   "outputs": [],
   "source": [
    "delta_t = 0.01\n",
    "t_max = 10\n",
    "sigma = 0.5\n",
    "mu = 0.2\n",
    "X_0 = 0\n"
   ]
  },
  {
   "cell_type": "code",
   "execution_count": null,
   "metadata": {
    "collapsed": true
   },
   "outputs": [],
   "source": []
  }
 ],
 "metadata": {
  "anaconda-cloud": {},
  "kernelspec": {
   "display_name": "Python [conda root]",
   "language": "python",
   "name": "conda-root-py"
  },
  "language_info": {
   "codemirror_mode": {
    "name": "ipython",
    "version": 2
   },
   "file_extension": ".py",
   "mimetype": "text/x-python",
   "name": "python",
   "nbconvert_exporter": "python",
   "pygments_lexer": "ipython2",
   "version": "2.7.12"
  },
  "toc": {
   "colors": {
    "hover_highlight": "#DAA520",
    "running_highlight": "#FF0000",
    "selected_highlight": "#FFD700"
   },
   "moveMenuLeft": true,
   "nav_menu": {
    "height": "81px",
    "width": "252px"
   },
   "navigate_menu": true,
   "number_sections": false,
   "sideBar": true,
   "threshold": 4,
   "toc_cell": false,
   "toc_section_display": "block",
   "toc_window_display": false,
   "widenNotebook": false
  }
 },
 "nbformat": 4,
 "nbformat_minor": 1
}
